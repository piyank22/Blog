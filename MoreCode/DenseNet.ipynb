{
 "cells": [
  {
   "cell_type": "code",
   "execution_count": 1,
   "metadata": {
    "collapsed": true
   },
   "outputs": [],
   "source": [
    "import argparse\n",
    "import torch\n",
    "\n",
    "import torch.nn as nn\n",
    "import torch.optim as optim\n",
    "\n",
    "import torch.nn.functional as F\n",
    "from torch.autograd import Variable\n",
    "\n",
    "import torchvision.datasets as dset\n",
    "import torchvision.transforms as transforms\n",
    "from torchvision.utils import save_image\n",
    "\n",
    "from torch.utils.data import DataLoader\n",
    "\n",
    "torch.manual_seed(1)\n",
    "\n",
    "import matplotlib.pyplot as plt\n",
    "%matplotlib inline"
   ]
  },
  {
   "cell_type": "code",
   "execution_count": 2,
   "metadata": {
    "collapsed": true
   },
   "outputs": [],
   "source": [
    "import os,sys,math,shutil"
   ]
  },
  {
   "cell_type": "code",
   "execution_count": 55,
   "metadata": {
    "collapsed": true
   },
   "outputs": [],
   "source": [
    "class Bottleneck(nn.Module):\n",
    "    def __init__(self, nChannels, growthRate):\n",
    "        super(Bottleneck, self).__init__()\n",
    "        interChannels = 4*growthRate\n",
    "        self.bn1 = nn.BatchNorm2d(nChannels)\n",
    "        self.conv1 = nn.Conv2d(nChannels, interChannels, kernel_size=1,\n",
    "                               bias=False)\n",
    "        self.bn2 = nn.BatchNorm2d(interChannels)\n",
    "        self.conv2 = nn.Conv2d(interChannels, growthRate, kernel_size=3,\n",
    "                               padding=1, bias=False)\n",
    "\n",
    "    def forward(self, x):\n",
    "        out = self.conv1(F.relu(self.bn1(x)))\n",
    "        out = self.conv2(F.relu(self.bn2(out)))\n",
    "        out = torch.cat((x, out), 1)\n",
    "        return out\n",
    "\n",
    "class SingleLayer(nn.Module):\n",
    "    def __init__(self, nChannels, growthRate):\n",
    "        super(SingleLayer, self).__init__()\n",
    "        self.bn1 = nn.BatchNorm2d(nChannels)\n",
    "        self.conv1 = nn.Conv2d(nChannels, growthRate, kernel_size=3,\n",
    "                               padding=1, bias=False)\n",
    "\n",
    "    def forward(self, x):\n",
    "        out = self.conv1(F.relu(self.bn1(x)))\n",
    "        out = torch.cat((x, out), 1)\n",
    "        return out\n",
    "\n",
    "class Transition(nn.Module):\n",
    "    def __init__(self, nChannels, nOutChannels):\n",
    "        super(Transition, self).__init__()\n",
    "        self.bn1 = nn.BatchNorm2d(nChannels)\n",
    "        self.conv1 = nn.Conv2d(nChannels, nOutChannels, kernel_size=1,\n",
    "                               bias=False)\n",
    "\n",
    "    def forward(self, x):\n",
    "        out = self.conv1(F.relu(self.bn1(x)))\n",
    "        out = F.avg_pool2d(out, 2)\n",
    "        return out\n",
    "\n",
    "\n",
    "class DenseNet(nn.Module):\n",
    "    def __init__(self, growthRate, depth, reduction, nClasses, bottleneck):\n",
    "        super(DenseNet, self).__init__()\n",
    "\n",
    "        nDenseBlocks = (depth-4) // 3\n",
    "        if bottleneck:\n",
    "            nDenseBlocks //= 2\n",
    "\n",
    "        nChannels = 2*growthRate\n",
    "        self.conv1 = nn.Conv2d(3, nChannels, kernel_size=3, padding=1,\n",
    "                               bias=False)\n",
    "        self.dense1 = self._make_dense(nChannels, growthRate, nDenseBlocks, bottleneck)\n",
    "        nChannels += nDenseBlocks*growthRate\n",
    "        nOutChannels = int(math.floor(nChannels*reduction))\n",
    "        self.trans1 = Transition(nChannels, nOutChannels)\n",
    "\n",
    "        nChannels = nOutChannels\n",
    "        self.dense2 = self._make_dense(nChannels, growthRate, nDenseBlocks, bottleneck)\n",
    "        nChannels += nDenseBlocks*growthRate\n",
    "        nOutChannels = int(math.floor(nChannels*reduction))\n",
    "        self.trans2 = Transition(nChannels, nOutChannels)\n",
    "\n",
    "        nChannels = nOutChannels\n",
    "        self.dense3 = self._make_dense(nChannels, growthRate, nDenseBlocks, bottleneck)\n",
    "        nChannels += nDenseBlocks*growthRate\n",
    "\n",
    "        self.bn1 = nn.BatchNorm2d(nChannels)\n",
    "        self.fc = nn.Linear(nChannels, nClasses)\n",
    "\n",
    "        for m in self.modules():\n",
    "            if isinstance(m, nn.Conv2d):\n",
    "                n = m.kernel_size[0] * m.kernel_size[1] * m.out_channels\n",
    "                m.weight.data.normal_(0, math.sqrt(2. / n))\n",
    "            elif isinstance(m, nn.BatchNorm2d):\n",
    "                m.weight.data.fill_(1)\n",
    "                m.bias.data.zero_()\n",
    "            elif isinstance(m, nn.Linear):\n",
    "                m.bias.data.zero_()\n",
    "\n",
    "    def _make_dense(self, nChannels, growthRate, nDenseBlocks, bottleneck):\n",
    "        layers = []\n",
    "        for i in range(int(nDenseBlocks)):\n",
    "            if bottleneck:\n",
    "                layers.append(Bottleneck(nChannels, growthRate))\n",
    "            else:\n",
    "                layers.append(SingleLayer(nChannels, growthRate))\n",
    "            nChannels += growthRate\n",
    "        return nn.Sequential(*layers)\n",
    "\n",
    "    def forward(self, x):\n",
    "        out = self.conv1(x)\n",
    "        out = self.trans1(self.dense1(out))\n",
    "        out = self.trans2(self.dense2(out))\n",
    "        out = self.dense3(out)\n",
    "        out = torch.squeeze(F.avg_pool2d(F.relu(self.bn1(out)) , out.size(-1)))\n",
    "        out = F.log_softmax(self.fc(out))\n",
    "        return out"
   ]
  },
  {
   "cell_type": "code",
   "execution_count": 223,
   "metadata": {
    "collapsed": true
   },
   "outputs": [],
   "source": [
    "def train(args, epoch, net, trainLoader, optimizer, trainF):\n",
    "    net.train()\n",
    "    nProcessed = 0\n",
    "    nTrain = len(trainLoader.dataset)\n",
    "    overall = 0\n",
    "    overall_deno = 0\n",
    "    for batch_idx, (data, target) in enumerate(trainLoader):\n",
    "        if args.cuda:\n",
    "            data, target = data.cuda(), target.cuda()\n",
    "        data, target = Variable(data), Variable(target)\n",
    "        optimizer.zero_grad()\n",
    "        output = net(data)\n",
    "        loss = F.nll_loss(output, target)\n",
    "        loss.backward()\n",
    "        optimizer.step()\n",
    "        nProcessed += len(data)\n",
    "        pred = output.data.max(1)[1]\n",
    "        incorrect = pred.ne(target.data).cpu().sum()\n",
    "        overall += incorrect\n",
    "        overall_deno += len(data)\n",
    "        err = 100.*incorrect/len(data)\n",
    "        err_over = 100.*overall/overall_deno\n",
    "        partialEpoch = epoch + batch_idx / len(trainLoader) - 1\n",
    "        if batch_idx%100 == 0:\n",
    "            print('Train Epoch: {:.2f} [{}/{} ({:.0f}%)]\\tLoss: {:.6f}\\tError: {:.6f}\\tglobal err: {:.6f}'.format(\n",
    "                partialEpoch, nProcessed, nTrain, 100. * batch_idx / len(trainLoader),\n",
    "                loss.data[0], err , err_over))\n",
    "\n",
    "        trainF.write('{},{},{}\\n'.format(partialEpoch, loss.data[0], err))\n",
    "        trainF.flush()\n",
    "\n",
    "def test(args, epoch, net, testLoader, optimizer, testF):\n",
    "    net.eval()\n",
    "    test_loss = 0\n",
    "    incorrect = 0\n",
    "    for data, target in testLoader:\n",
    "        if args.cuda:\n",
    "            data, target = data.cuda(), target.cuda()\n",
    "        data, target = Variable(data, volatile=True), Variable(target)\n",
    "        output = net(data)\n",
    "        test_loss += F.nll_loss(output, target).data[0]\n",
    "        pred = output.data.max(1)[1] # get the index of the max log-probability\n",
    "        incorrect += pred.ne(target.data).cpu().sum()\n",
    "\n",
    "    test_loss = test_loss\n",
    "    test_loss /= len(testLoader) # loss function already averages over batch size\n",
    "    nTotal = len(testLoader.dataset)\n",
    "    err = 100.*incorrect/nTotal\n",
    "    print('\\nTest set: Average loss: {:.4f}, Error: {}/{} ({:.0f}%)\\n'.format(\n",
    "        test_loss, incorrect, nTotal, err))\n",
    "\n",
    "    testF.write('{},{},{}\\n'.format(epoch, test_loss, err))\n",
    "    testF.flush()"
   ]
  },
  {
   "cell_type": "code",
   "execution_count": 212,
   "metadata": {},
   "outputs": [
    {
     "name": "stdout",
     "output_type": "stream",
     "text": [
      "Namespace(batchSz=64, nEpochs=3, no_cuda=False, opt='adam', save=None, seed=1)\n"
     ]
    }
   ],
   "source": [
    "parser = argparse.ArgumentParser()\n",
    "parser.add_argument('--batchSz', type=int, default=64)\n",
    "parser.add_argument('--nEpochs', type=int, default=3)\n",
    "parser.add_argument('--no-cuda', action='store_true')\n",
    "parser.add_argument('--save')\n",
    "parser.add_argument('--seed', type=int, default=1)\n",
    "parser.add_argument('--opt', type=str, default='adam',choices=('sgd', 'adam', 'rmsprop'))\n",
    "args = parser.parse_args( [] )\n",
    "\n",
    "print(args)"
   ]
  },
  {
   "cell_type": "code",
   "execution_count": 225,
   "metadata": {
    "collapsed": true
   },
   "outputs": [],
   "source": [
    "args.cuda = not args.no_cuda and torch.cuda.is_available()\n",
    "args.save = args.save or 'work/densenet.base'\n",
    "\n",
    "torch.manual_seed(args.seed)\n",
    "if args.cuda:\n",
    "    torch.cuda.manual_seed(args.seed)\n",
    "\n",
    "normMean = [0.49139968, 0.48215827, 0.44653124]\n",
    "normStd = [0.24703233, 0.24348505, 0.26158768]\n",
    "normTransform = transforms.Normalize(normMean, normStd)\n",
    "\n",
    "trainTransform = transforms.Compose([\n",
    "    transforms.ToTensor(),\n",
    "    normTransform\n",
    "])\n",
    "testTransform = transforms.Compose([\n",
    "    transforms.ToTensor(),\n",
    "    normTransform\n",
    "])\n",
    "\n",
    "kwargs = {'num_workers': 4, 'pin_memory': True} if args.cuda else {}"
   ]
  },
  {
   "cell_type": "code",
   "execution_count": 226,
   "metadata": {
    "collapsed": true
   },
   "outputs": [],
   "source": [
    "net = DenseNet(growthRate=12, depth=20, reduction=0.5, bottleneck=True, nClasses=10)"
   ]
  },
  {
   "cell_type": "code",
   "execution_count": 227,
   "metadata": {},
   "outputs": [
    {
     "name": "stdout",
     "output_type": "stream",
     "text": [
      "  + Number of params: 44410\n"
     ]
    }
   ],
   "source": [
    "print('  + Number of params: {}'.format(sum([p.data.nelement() for p in net.parameters()])))\n",
    "if args.cuda:\n",
    "    net = net.cuda()"
   ]
  },
  {
   "cell_type": "code",
   "execution_count": 228,
   "metadata": {
    "collapsed": true
   },
   "outputs": [],
   "source": [
    "if os.path.exists(args.save):\n",
    "    shutil.rmtree(args.save)\n",
    "os.makedirs(args.save, exist_ok=True)\n",
    "\n",
    "trainF = open(os.path.join(args.save, 'train.csv'), 'w')\n",
    "testF = open(os.path.join(args.save, 'test.csv'), 'w')"
   ]
  },
  {
   "cell_type": "code",
   "execution_count": 229,
   "metadata": {},
   "outputs": [
    {
     "name": "stdout",
     "output_type": "stream",
     "text": [
      "Files already downloaded and verified\n",
      "Files already downloaded and verified\n"
     ]
    }
   ],
   "source": [
    "trainLoader = DataLoader( dset.CIFAR10(root='cifar', train=True, download=True,transform=trainTransform),\n",
    "                          batch_size=args.batchSz, shuffle=True, **kwargs)\n",
    "testLoader = DataLoader( dset.CIFAR10(root='cifar', train=False, download=True,transform=testTransform),\n",
    "                          batch_size=args.batchSz, shuffle=False, **kwargs)"
   ]
  },
  {
   "cell_type": "code",
   "execution_count": 230,
   "metadata": {
    "collapsed": true
   },
   "outputs": [],
   "source": [
    "optimizer = optim.Adam(net.parameters(),lr=.1)\n"
   ]
  },
  {
   "cell_type": "code",
   "execution_count": 231,
   "metadata": {},
   "outputs": [
    {
     "name": "stdout",
     "output_type": "stream",
     "text": [
      "Train Epoch: 0.00 [64/50000 (0%)]\tLoss: 2.347867\tError: 93.750000\tglobal err: 93.750000\n",
      "Train Epoch: 0.13 [6464/50000 (13%)]\tLoss: 1.979696\tError: 78.125000\tglobal err: 77.908416\n",
      "Train Epoch: 0.26 [12864/50000 (26%)]\tLoss: 1.841704\tError: 70.312500\tglobal err: 75.466418\n",
      "Train Epoch: 0.38 [19264/50000 (38%)]\tLoss: 1.794933\tError: 60.937500\tglobal err: 72.975498\n",
      "Train Epoch: 0.51 [25664/50000 (51%)]\tLoss: 1.851104\tError: 81.250000\tglobal err: 71.278834\n",
      "Train Epoch: 0.64 [32064/50000 (64%)]\tLoss: 1.454085\tError: 50.000000\tglobal err: 69.710579\n",
      "Train Epoch: 0.77 [38464/50000 (77%)]\tLoss: 1.587967\tError: 64.062500\tglobal err: 68.094842\n",
      "Train Epoch: 0.90 [44864/50000 (90%)]\tLoss: 1.556940\tError: 57.812500\tglobal err: 66.761769\n"
     ]
    }
   ],
   "source": [
    "for epoch in range( 1 ):\n",
    "    train(args, epoch+1 , net, trainLoader , optimizer, trainF)\n",
    "#     test(args, epoch+1 , net, testLoader, optimizer, testF)\n",
    "#     torch.save(net, os.path.join(args.save, 'latest.pth'))\n",
    "\n",
    "# trainF.close()\n",
    "# testF.close()"
   ]
  },
  {
   "cell_type": "code",
   "execution_count": null,
   "metadata": {
    "collapsed": true
   },
   "outputs": [],
   "source": []
  },
  {
   "cell_type": "code",
   "execution_count": null,
   "metadata": {
    "collapsed": true
   },
   "outputs": [],
   "source": []
  }
 ],
 "metadata": {
  "kernelspec": {
   "display_name": "Python 3",
   "language": "python",
   "name": "python3"
  },
  "language_info": {
   "codemirror_mode": {
    "name": "ipython",
    "version": 3
   },
   "file_extension": ".py",
   "mimetype": "text/x-python",
   "name": "python",
   "nbconvert_exporter": "python",
   "pygments_lexer": "ipython3",
   "version": "3.6.1"
  }
 },
 "nbformat": 4,
 "nbformat_minor": 2
}
